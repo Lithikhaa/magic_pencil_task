{
  "nbformat": 4,
  "nbformat_minor": 0,
  "metadata": {
    "colab": {
      "provenance": []
    },
    "kernelspec": {
      "name": "python3",
      "display_name": "Python 3"
    },
    "language_info": {
      "name": "python"
    }
  },
  "cells": [
    {
      "cell_type": "code",
      "execution_count": null,
      "metadata": {
        "colab": {
          "base_uri": "https://localhost:8080/"
        },
        "id": "YDLtxC-dSKYI",
        "outputId": "db84ddf4-1460-4614-84fc-500881f8df56"
      },
      "outputs": [
        {
          "output_type": "stream",
          "name": "stdout",
          "text": [
            "Collecting poe-api\n",
            "  Downloading poe_api-0.5.2-py3-none-any.whl (72 kB)\n",
            "\u001b[2K     \u001b[90m━━━━━━━━━━━━━━━━━━━━━━━━━━━━━━━━━━━━━━━━\u001b[0m \u001b[32m72.0/72.0 kB\u001b[0m \u001b[31m1.1 MB/s\u001b[0m eta \u001b[36m0:00:00\u001b[0m\n",
            "\u001b[?25hCollecting python-socks (from poe-api)\n",
            "  Downloading python_socks-2.3.0-py3-none-any.whl (53 kB)\n",
            "\u001b[2K     \u001b[90m━━━━━━━━━━━━━━━━━━━━━━━━━━━━━━━━━━━━━━━━\u001b[0m \u001b[32m53.3/53.3 kB\u001b[0m \u001b[31m1.4 MB/s\u001b[0m eta \u001b[36m0:00:00\u001b[0m\n",
            "\u001b[?25hCollecting quickjs (from poe-api)\n",
            "  Downloading quickjs-1.19.2-cp310-cp310-manylinux_2_17_x86_64.manylinux2014_x86_64.manylinux_2_24_x86_64.whl (1.7 MB)\n",
            "\u001b[2K     \u001b[90m━━━━━━━━━━━━━━━━━━━━━━━━━━━━━━━━━━━━━━━━\u001b[0m \u001b[32m1.7/1.7 MB\u001b[0m \u001b[31m21.5 MB/s\u001b[0m eta \u001b[36m0:00:00\u001b[0m\n",
            "\u001b[?25hRequirement already satisfied: requests[socks] in /usr/local/lib/python3.10/dist-packages (from poe-api) (2.27.1)\n",
            "Collecting tls-client (from poe-api)\n",
            "  Downloading tls_client-0.2.1-py3-none-any.whl (35.2 MB)\n",
            "\u001b[2K     \u001b[90m━━━━━━━━━━━━━━━━━━━━━━━━━━━━━━━━━━━━━━━━\u001b[0m \u001b[32m35.2/35.2 MB\u001b[0m \u001b[31m14.8 MB/s\u001b[0m eta \u001b[36m0:00:00\u001b[0m\n",
            "\u001b[?25hRequirement already satisfied: websocket-client in /usr/local/lib/python3.10/dist-packages (from poe-api) (1.6.1)\n",
            "Requirement already satisfied: urllib3<1.27,>=1.21.1 in /usr/local/lib/python3.10/dist-packages (from requests[socks]->poe-api) (1.26.16)\n",
            "Requirement already satisfied: certifi>=2017.4.17 in /usr/local/lib/python3.10/dist-packages (from requests[socks]->poe-api) (2023.7.22)\n",
            "Requirement already satisfied: charset-normalizer~=2.0.0 in /usr/local/lib/python3.10/dist-packages (from requests[socks]->poe-api) (2.0.12)\n",
            "Requirement already satisfied: idna<4,>=2.5 in /usr/local/lib/python3.10/dist-packages (from requests[socks]->poe-api) (3.4)\n",
            "Requirement already satisfied: PySocks!=1.5.7,>=1.5.6 in /usr/local/lib/python3.10/dist-packages (from requests[socks]->poe-api) (1.7.1)\n",
            "Installing collected packages: tls-client, quickjs, python-socks, poe-api\n",
            "Successfully installed poe-api-0.5.2 python-socks-2.3.0 quickjs-1.19.2 tls-client-0.2.1\n"
          ]
        }
      ],
      "source": [
        "!pip install poe-api"
      ]
    },
    {
      "cell_type": "code",
      "source": [
        "import poe\n",
        "client = poe.Client(\"my_private_token\")"
      ],
      "metadata": {
        "id": "Oc5s38uGU3GM"
      },
      "execution_count": null,
      "outputs": []
    },
    {
      "cell_type": "code",
      "source": [
        "import poe\n",
        "import logging\n",
        "import sys\n",
        "import json\n",
        "\n",
        "#get the account's bot list\n",
        "\n",
        "token = sys.argv[1]\n",
        "poe.logger.setLevel(logging.INFO)\n",
        "client = poe.Client(\"my_private_token\")\n",
        "\n",
        "print(json.dumps(client.bot_names, indent=2))"
      ],
      "metadata": {
        "colab": {
          "base_uri": "https://localhost:8080/"
        },
        "id": "hF0z51NiSMyy",
        "outputId": "c46425ab-ecc9-4a48-9ace-eca6e205fb55"
      },
      "execution_count": null,
      "outputs": [
        {
          "output_type": "stream",
          "name": "stderr",
          "text": [
            "INFO:root:Setting up session...\n",
            "INFO:root:Downloading next_data...\n",
            "INFO:root:Downloading channel data...\n",
            "INFO:root:Downloading all bots...\n",
            "INFO:root:Subscribing to mutations\n",
            "INFO:websocket:Websocket connected\n"
          ]
        },
        {
          "output_type": "stream",
          "name": "stdout",
          "text": [
            "{\n",
            "  \"capybara\": \"Assistant\",\n",
            "  \"a2\": \"Claude-instant\",\n",
            "  \"chinchilla\": \"ChatGPT\",\n",
            "  \"beaver\": \"GPT-4\",\n",
            "  \"agouti\": \"ChatGPT-16k\",\n",
            "  \"a2_100k\": \"Claude-instant-100k\",\n",
            "  \"vizcacha\": \"GPT-4-32k\",\n",
            "  \"llama_2_70b_chat\": \"Llama-2-70b\",\n",
            "  \"acouchy\": \"Google-PaLM\",\n",
            "  \"llama_2_7b_chat\": \"Llama-2-7b\",\n",
            "  \"lanasmother\": \"LanasMother\",\n",
            "  \"llama_2_13b_chat\": \"Llama-2-13b\",\n",
            "  \"a2_2\": \"Claude-2-100k\"\n",
            "}\n"
          ]
        }
      ]
    },
    {
      "cell_type": "code",
      "source": [
        "import pandas as pd\n",
        "\n",
        "try:\n",
        "    # Try reading the CSV file with 'utf-8' encoding\n",
        "    df = pd.read_csv('/content/challenges.csv', encoding='utf-8')\n",
        "except UnicodeDecodeError:\n",
        "    # If 'utf-8' encoding fails, try 'latin-1' or 'ISO-8859-1' encoding\n",
        "    df = pd.read_csv('/content/challenges.csv', encoding='latin-1')\n",
        "\n",
        "# Continue with your code or operation on the DataFrame as needed\n",
        "prompt= df.to_json()\n"
      ],
      "metadata": {
        "id": "8XuBxU0HTBIQ",
        "colab": {
          "base_uri": "https://localhost:8080/"
        },
        "outputId": "314f1a7e-4e80-4178-a8c2-4df9b24293f5"
      },
      "execution_count": null,
      "outputs": [
        {
          "output_type": "stream",
          "name": "stderr",
          "text": [
            "INFO:numexpr.utils:NumExpr defaulting to 2 threads.\n"
          ]
        }
      ]
    },
    {
      "cell_type": "code",
      "source": [
        "print(prompt)"
      ],
      "metadata": {
        "colab": {
          "base_uri": "https://localhost:8080/"
        },
        "id": "713-LG2hl-sM",
        "outputId": "48310304-368d-4be4-b854-c3138879b003"
      },
      "execution_count": null,
      "outputs": [
        {
          "output_type": "stream",
          "name": "stdout",
          "text": [
            "{\"S.no\":{\"0\":1,\"1\":2,\"2\":3,\"3\":4,\"4\":5,\"5\":6,\"6\":7,\"7\":8,\"8\":9,\"9\":10,\"10\":11,\"11\":12,\"12\":13,\"13\":14,\"14\":15,\"15\":16,\"16\":17,\"17\":18,\"18\":19,\"19\":20,\"20\":21,\"21\":22,\"22\":23,\"23\":24,\"24\":25,\"25\":26,\"26\":27,\"27\":28,\"28\":29,\"29\":30,\"30\":31,\"31\":32,\"32\":33,\"33\":34,\"34\":35,\"35\":36,\"36\":37,\"37\":38,\"38\":39,\"39\":40,\"40\":41,\"41\":42,\"42\":43,\"43\":44,\"44\":45,\"45\":46,\"46\":47,\"47\":48,\"48\":49,\"49\":50,\"50\":51,\"51\":52,\"52\":53,\"53\":54,\"54\":55,\"55\":56,\"56\":57,\"57\":58,\"58\":59},\"Challenges\":{\"0\":\"No direct\\/travel for makrketing\\/sales visit for opportunities\",\"1\":\"Not being present in foreign locations physically\",\"2\":\"Not my job attitude\",\"3\":\"Few negative mindset\",\"4\":\"Mindset change\",\"5\":\"Hesitation\",\"6\":\"Lack of due deligence with client interactions\",\"7\":\"Lack of sales partners & \\\"Door knocking\\\" team\",\"8\":\"Mostly it is derm and comb rather than definite\",\"9\":\"Haven't developed a project that competes in the market\",\"10\":\"Not sure why we are building this project\",\"11\":\"Less product initiation\",\"12\":\"Should have focussed on few products\",\"13\":\"salary correction\",\"14\":\"Being financially conservative (We can pay more)\",\"15\":\"Open up for cross team appreciation\",\"16\":\"Proper coordination with sales and engineering team\",\"17\":\"Sometimes there is communication gap\",\"18\":\"Cross team collaboration\",\"19\":\"Lack of collaboration between L3\\/L4 across the chapters\",\"20\":\"Lack of communication both internal and external\",\"21\":\"Developers hidden away(Only few front)\",\"22\":\"Resource shadowing\",\"23\":\"Mostly it\\u0092s the fantastic 4 & they have limitations\",\"24\":\"Recent recruitments not seeing commited as previous 3 batch\",\"25\":\"Not predicting - few cases\",\"26\":\"Technology and process definition from the client\",\"27\":\"Selling people to the client\",\"28\":\"Leaders are doers and not mostly innovators\",\"29\":\"Conscious growth rather than disruptive approach\",\"30\":\"Losing a customer\",\"31\":\"L3 & L4 involvement in terms of marketing activities\",\"32\":\"Better branding\",\"33\":\"We were too late in marketing our capabilities\",\"34\":\"Need to still refine our digital marketing strategies\\/capabilities\",\"35\":\"Bringing new\\/fresh minds\",\"36\":\"Setting high stardards during hiring process\",\"37\":\"Setting high expectations on recruitment\",\"38\":\"Need more kaders and ideas\",\"39\":\"Sometimes stop me - Fear or mistake\",\"40\":\"Tight project schedule will create impact in upskill\",\"41\":\"No meeting discussion happen within units around solutions.\\nAnd product conversion\",\"42\":\"Geographical\\/ Cultural difference\",\"43\":\"Not defing clear requirements\",\"44\":\"Strict in process- Not analyxing the need\",\"45\":\"Can't follow process in all at our projects which creates process\\nlag within the people\",\"46\":\"Learning path for people is not probably managed because\\nof project \\/ pressure\",\"47\":\"Process not followers by some business unit - one team\\none culture is missing\",\"48\":\"Mindset change (Organic)\",\"49\":\"Lack of experience\",\"50\":\"Mentorship viod for leaders\",\"51\":\"Protecting your own\",\"52\":\"No work life balance\",\"53\":\"Too much stress\",\"54\":\"Stop muscling and fight as one team with shares responsibilities\",\"55\":\"Too many people getting into same work\",\"56\":\"Too many meetings for Sm3 context\",\"57\":\"Risk taking- Middle class values\",\"58\":\"Comfort zone - who we are? Are we doing the same thing\"}}\n"
          ]
        }
      ]
    },
    {
      "cell_type": "code",
      "source": [
        "import poe\n",
        "\n",
        "# Rest of your code using the 'poe' class\n",
        "import sys\n",
        "sys.path.append('/path/to/folder_containing_poe_module')  # Replace '/path/to/folder_containing_poe_module' with the actual path\n",
        "import poe\n",
        "\n",
        "# Rest of your code using the 'poe' class\n",
        "\n",
        "\n"
      ],
      "metadata": {
        "id": "iTtIN_VhZES4"
      },
      "execution_count": null,
      "outputs": []
    },
    {
      "cell_type": "code",
      "source": [
        "client.send_message(\"acouchy\", prompt, with_chat_break=True)#palm called"
      ],
      "metadata": {
        "colab": {
          "base_uri": "https://localhost:8080/"
        },
        "id": "EUz0PtdEjFPk",
        "outputId": "d45d6817-6667-4d98-ab73-564b2cdfb300"
      },
      "execution_count": null,
      "outputs": [
        {
          "output_type": "execute_result",
          "data": {
            "text/plain": [
              "<generator object Client.send_message at 0x796647d5fe60>"
            ]
          },
          "metadata": {},
          "execution_count": 9
        }
      ]
    },
    {
      "cell_type": "code",
      "source": [
        "for chunk in client.send_message(\"acouchy\",\"above is ideas raw data -> cluster the themes based on areas -> give a list of themes for the given dataset\", with_chat_break=True):\n",
        "  print(chunk[\"text_new\"], end=\"\", flush=True)\n",
        "print()"
      ],
      "metadata": {
        "colab": {
          "base_uri": "https://localhost:8080/"
        },
        "id": "mk1ZfXujq8le",
        "outputId": "89f993ab-05b0-4778-ef73-8fc4a0d663ac"
      },
      "execution_count": null,
      "outputs": [
        {
          "output_type": "stream",
          "name": "stderr",
          "text": [
            "INFO:root:Sending message to acouchy: above is ideas raw data -> cluster the themes based on areas -> give a list of themes for the given dataset\n"
          ]
        },
        {
          "output_type": "stream",
          "name": "stdout",
          "text": [
            "Themes:\n",
            "\n",
            "- Climate change\n",
            "\n",
            "- Energy\n",
            "\n",
            "- Food and agriculture\n",
            "\n",
            "- Health\n",
            "\n",
            "- Inequality\n",
            "\n",
            "- Poverty\n",
            "\n",
            "- Water\n"
          ]
        }
      ]
    }
  ]
}